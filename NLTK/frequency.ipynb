{
 "cells": [
  {
   "cell_type": "code",
   "execution_count": 1,
   "id": "dfccbd0e",
   "metadata": {},
   "outputs": [],
   "source": [
    "import pandas as pd"
   ]
  },
  {
   "cell_type": "code",
   "execution_count": 2,
   "id": "55c3348e",
   "metadata": {},
   "outputs": [],
   "source": [
    "data=pd.read_excel(\"Flight Booking History.xlsx\")"
   ]
  },
  {
   "cell_type": "code",
   "execution_count": 3,
   "id": "2219ab3d",
   "metadata": {},
   "outputs": [
    {
     "name": "stdout",
     "output_type": "stream",
     "text": [
      "   Customer_ID Customer Name  Flight Name     Origin Destination Seat-Number  \\\n",
      "0       100001  Anjali Patel    GoAir 562      Kochi      Mumbai          A1   \n",
      "1       100002   Ravi Sharma   IndiGo 122       Pune         Goa          A2   \n",
      "2       100003   Priya Gupta  IndiGo 6825  Bengaluru     Chennai          A3   \n",
      "3       100004    Aman Singh  IndiGo 5221     Mumbai         Goa          A4   \n",
      "4       100005   Meena Patel    GoAir 380        Goa      Mumbai          A5   \n",
      "\n",
      "   Flight_ID  \n",
      "0     100000  \n",
      "1     100001  \n",
      "2     100002  \n",
      "3     100003  \n",
      "4     100004  \n"
     ]
    }
   ],
   "source": [
    "print(data.head())"
   ]
  },
  {
   "cell_type": "code",
   "execution_count": 4,
   "id": "30cfd836",
   "metadata": {},
   "outputs": [],
   "source": [
    "def get_flight_info(data, customer_id):\n",
    "    customer_data = data[data['Customer_ID'] == customer_id]    #Returns the only row required. customer_data is now a dataframe.\n",
    "    if customer_data.empty:\n",
    "        return \"No data found for the given Customer_ID.\"\n",
    "\n",
    "    flight_counts_df = customer_data['Flight_ID'].value_counts().reset_index()  #The count of the Flight_ID is returned with reseted-index. This is a new dataframe of 2 columns\n",
    "    flight_counts_df.columns = ['Flight_ID', 'Frequency']  #renamed the column name to Flight_ID and Frequency \n",
    "    unique_flights_info = customer_data.drop_duplicates(subset=['Flight_ID'])[['Flight_ID', 'Origin', 'Destination','Flight Name']]   #dropped the duplicate rows\n",
    "    merged_info = pd.merge(flight_counts_df, unique_flights_info, on='Flight_ID', how='left') #You merge the table based on Flight ID, and the join used is left join\n",
    "    output_table = merged_info.sort_values(by='Frequency', ascending=False)  #since ascending=False, the sort will be descending based on the Frequency. \n",
    "    return output_table   "
   ]
  },
  {
   "cell_type": "code",
   "execution_count": 5,
   "id": "9b69ae21",
   "metadata": {},
   "outputs": [
    {
     "name": "stdout",
     "output_type": "stream",
     "text": [
      "Enter the Customer ID100037\n"
     ]
    },
    {
     "data": {
      "text/html": [
       "<div>\n",
       "<style scoped>\n",
       "    .dataframe tbody tr th:only-of-type {\n",
       "        vertical-align: middle;\n",
       "    }\n",
       "\n",
       "    .dataframe tbody tr th {\n",
       "        vertical-align: top;\n",
       "    }\n",
       "\n",
       "    .dataframe thead th {\n",
       "        text-align: right;\n",
       "    }\n",
       "</style>\n",
       "<table border=\"1\" class=\"dataframe\">\n",
       "  <thead>\n",
       "    <tr style=\"text-align: right;\">\n",
       "      <th></th>\n",
       "      <th>Flight_ID</th>\n",
       "      <th>Frequency</th>\n",
       "      <th>Origin</th>\n",
       "      <th>Destination</th>\n",
       "      <th>Flight Name</th>\n",
       "    </tr>\n",
       "  </thead>\n",
       "  <tbody>\n",
       "    <tr>\n",
       "      <th>0</th>\n",
       "      <td>100033</td>\n",
       "      <td>3</td>\n",
       "      <td>Mangalore</td>\n",
       "      <td>Pune</td>\n",
       "      <td>IndiGo 672</td>\n",
       "    </tr>\n",
       "    <tr>\n",
       "      <th>1</th>\n",
       "      <td>110033</td>\n",
       "      <td>1</td>\n",
       "      <td>Pune</td>\n",
       "      <td>Mangalore</td>\n",
       "      <td>IndiGo Mod672</td>\n",
       "    </tr>\n",
       "  </tbody>\n",
       "</table>\n",
       "</div>"
      ],
      "text/plain": [
       "   Flight_ID  Frequency     Origin Destination    Flight Name\n",
       "0     100033          3  Mangalore        Pune     IndiGo 672\n",
       "1     110033          1       Pune   Mangalore  IndiGo Mod672"
      ]
     },
     "execution_count": 5,
     "metadata": {},
     "output_type": "execute_result"
    }
   ],
   "source": [
    "customer_id=int(input(\"Enter the Customer ID\"))\n",
    "get_flight_info(data,customer_id)"
   ]
  },
  {
   "cell_type": "code",
   "execution_count": null,
   "id": "34a0995f",
   "metadata": {},
   "outputs": [],
   "source": []
  }
 ],
 "metadata": {
  "kernelspec": {
   "display_name": "Python 3 (ipykernel)",
   "language": "python",
   "name": "python3"
  },
  "language_info": {
   "codemirror_mode": {
    "name": "ipython",
    "version": 3
   },
   "file_extension": ".py",
   "mimetype": "text/x-python",
   "name": "python",
   "nbconvert_exporter": "python",
   "pygments_lexer": "ipython3",
   "version": "3.10.9"
  }
 },
 "nbformat": 4,
 "nbformat_minor": 5
}
