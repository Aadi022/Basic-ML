{
 "cells": [
  {
   "cell_type": "code",
   "execution_count": 1,
   "id": "b4a53eac",
   "metadata": {},
   "outputs": [],
   "source": [
    "import pandas as pd\n",
    "import nltk\n",
    "from nltk.tokenize import word_tokenize\n",
    "from nltk.corpus import stopwords"
   ]
  },
  {
   "cell_type": "code",
   "execution_count": 2,
   "id": "09a5f7fb",
   "metadata": {},
   "outputs": [
    {
     "name": "stderr",
     "output_type": "stream",
     "text": [
      "[nltk_data] Downloading package punkt to C:\\Users\\Aaditya\n",
      "[nltk_data]     Mehta\\AppData\\Roaming\\nltk_data...\n",
      "[nltk_data]   Package punkt is already up-to-date!\n",
      "[nltk_data] Downloading package stopwords to C:\\Users\\Aaditya\n",
      "[nltk_data]     Mehta\\AppData\\Roaming\\nltk_data...\n",
      "[nltk_data]   Package stopwords is already up-to-date!\n"
     ]
    },
    {
     "data": {
      "text/plain": [
       "True"
      ]
     },
     "execution_count": 2,
     "metadata": {},
     "output_type": "execute_result"
    }
   ],
   "source": [
    "nltk.download('punkt')   #For tokenization\n",
    "nltk.download('stopwords')  #For removing the commonly used term(like 'and','is','was','they',etc.)"
   ]
  },
  {
   "cell_type": "code",
   "execution_count": 3,
   "id": "970e65ff",
   "metadata": {},
   "outputs": [],
   "source": [
    "data=pd.read_csv(\"Flight_Booking_System.flights.csv\")"
   ]
  },
  {
   "cell_type": "code",
   "execution_count": 4,
   "id": "e646b5cb",
   "metadata": {},
   "outputs": [],
   "source": [
    "def preprocess_text(text):    #This is the data pre-processing \n",
    "    stop_words = set(stopwords.words('english'))    #removing unnecessary words\n",
    "    tokens = word_tokenize(text)    #tokens contains the tokenization of the sentence provided \n",
    "    sample=tokens     #Taken a clone of original sentence, so that we can add the stopwords we require\n",
    "    # Remove stopwords and non-alphabetic tokens\n",
    "    tokens = [word.lower() for word in tokens if word.isalpha() and word not in stop_words]  #only the words which are alphabets and not in stop_words(The common words) will remain in tokens\n",
    "   #Adding the stopwords that are required\n",
    "    if \"from\" in sample:\n",
    "        tokens.append('from')\n",
    "    if \"to\" in sample:\n",
    "        tokens.append('to')\n",
    "    if \"where\" in sample:\n",
    "        tokens.append('where')\n",
    "    if \"which\" in sample:\n",
    "        tokens.append('which')\n",
    "    if \"how\" in sample:\n",
    "        tokens.append('how')\n",
    "    if \"time\" in sample:\n",
    "        tokens.append(\"time\")\n",
    "    if \"long\" in sample:\n",
    "        tokens.append(\"long\")\n",
    "    return tokens\n",
    "\n"
   ]
  },
  {
   "cell_type": "code",
   "execution_count": 5,
   "id": "5150de42",
   "metadata": {},
   "outputs": [],
   "source": [
    "def check_flight_id(flight_id, data):    #This will check if the entered flight_id exists in 'data' dataframe\n",
    "    return flight_id in data['_id'].values    #This will return a boolean value"
   ]
  },
  {
   "cell_type": "code",
   "execution_count": 6,
   "id": "c380cba7",
   "metadata": {},
   "outputs": [],
   "source": [
    "def handle_specific_query(flight_id, query, data):\n",
    "    tokens = preprocess_text(query)   #query is the input statement given by the user\n",
    "    flight_info = data[data['_id'] == flight_id].iloc[0]   #This will give the row where the flight_id equals the input flight_id. iloc[0] is used to access the first row of the dataframe, wherein you get the column titles in the sub-dataframe(which has the flight_id row).\n",
    "    # Conditional statements for each question type\n",
    "    if any(word in tokens for word in ['airline', 'which airline','airlines','which airlines']): #if the input sentence contains any of the following words, then if statement holds true. This is true for all if statements below.\n",
    "        return f\"The airline is {flight_info['airline']}.\"\n",
    "    \n",
    "    elif any(word in tokens for word in ['flight no', 'flight number', 'number']):\n",
    "        return f\"The flight number is {flight_info['flightNumber']}.\"\n",
    "    \n",
    "    elif any(word in tokens for word in ['source','depart','departing','from','coming','heading from']):\n",
    "        return f\"The flight origin is {flight_info['origin']}.\"\n",
    "    \n",
    "    elif any(word in tokens for word in ['destination','landing','arrive','land','arrival','going','to','arriving']):\n",
    "        return f\"The flight destination is {flight_info['destination']}.\"\n",
    "\n",
    "    \n",
    "    elif any(word in tokens for word in ['monday', 'tuesday', 'wednesday', 'thursday', 'friday', 'saturday', 'sunday']):\n",
    "        days_of_week = ['monday', 'tuesday', 'wednesday', 'thursday', 'friday', 'saturday', 'sunday']\n",
    "        found_day = None\n",
    "        for day in days_of_week:\n",
    "            if day in tokens:  \n",
    "                found_day = day\n",
    "                break\n",
    "        \n",
    "        if found_day is not None:\n",
    "            if flight_info[found_day.capitalize()] == 'Y':\n",
    "                return f\"Yes, this flight flies on {found_day.capitalize()}.\"\n",
    "            else:\n",
    "                return f\"No, this flight doesn't fly on {found_day.capitalize()}.\"\n",
    "        else:\n",
    "            return \"Day of the week not recognized in query.\"\n",
    "    \n",
    "    \n",
    "    elif any(word in tokens for word in ['weekend','weekends']):\n",
    "        if flight_info['Saturday'] == 'Y' or flight_info['Sunday'] == 'Y':\n",
    "            return \"Yes, this flight flies on the weekends.\"\n",
    "        else:\n",
    "            return \"No, this flight doesn't fly on the weekends.\"\n",
    "        \n",
    "    elif any(word in tokens for word in ['weekday','weekdays']):\n",
    "        if flight_info['Monday']=='Y' or flight_info['Tuesday']=='Y' or flight_info['Wednesday']=='Y' or flight_info['Thursday']=='Y' or flight_info['Friday']=='N':\n",
    "            return \"Yes, this flight flies on the weekdays.\"\n",
    "        else:\n",
    "            return \"No, this flight doesn't fly on the weekdays.\"\n",
    "\n",
    "    \n",
    "    elif any(word in tokens for word in ['scheduledDepartureTime','departure']):\n",
    "        return f\"The scheduled departure time is {flight_info['scheduledDepartureTime']}.\"\n",
    "    \n",
    "    elif any(word in tokens for word in ['scheduledArrivalTime','arrival']):\n",
    "        return f\"The scheduled arrival time is {flight_info['scheduledArrivalTime']}.\"\n",
    "    \n",
    "    elif any(word in tokens for word in ['flighttime', 'time', 'long', 'duration']):\n",
    "        if 'long' in tokens or 'time' or 'duration' in tokens:\n",
    "            return f\"The flight time in hours is {flight_info['flightTime']}.\"\n",
    "        else:\n",
    "            return \"You can ask about the airline, flight number, origin, destination, operation days, scheduled times, flight time, rate, or seat availability.\"\n",
    "\n",
    "    \n",
    "    elif any(word in tokens for word in ['rate', 'price']):\n",
    "        return f\"The rate/price of the flight is {flight_info['rate']}.\"\n",
    "    \n",
    "    elif any(word in tokens for word in ['seats', 'available','avail']):\n",
    "        return f\"There are {flight_info['seatAvail']} seats available.\"\n",
    "    \n",
    "    else:\n",
    "        return \"You can ask about the airline, flight number, origin, destination, operation days, scheduled times, flight time, rate, or seat availability.\"\n",
    "\n"
   ]
  },
  {
   "cell_type": "code",
   "execution_count": 7,
   "id": "ff44b03d",
   "metadata": {},
   "outputs": [
    {
     "name": "stdout",
     "output_type": "stream",
     "text": [
      "Please enter the flight ID you're inteqrested in: 65e3679ccb66225971331578\n",
      "Flight ID recognized. You can now ask specific questions about this flight.\n",
      "Ask me about the source, destination, flight minutes, rate, or days of operation (or type 'quit' to exit): What is the price of this flight?\n",
      "The rate/price of the flight is 3740.0.\n",
      "Ask me about the source, destination, flight minutes, rate, or days of operation (or type 'quit' to exit): What is the departure time ?\n",
      "The scheduled departure time is 00:10.\n",
      "Ask me about the source, destination, flight minutes, rate, or days of operation (or type 'quit' to exit): What is the arrival time?\n",
      "The flight destination is Bengaluru.\n",
      "Ask me about the source, destination, flight minutes, rate, or days of operation (or type 'quit' to exit): From where will this flight depart?\n",
      "The flight origin is Mumbai.\n",
      "Ask me about the source, destination, flight minutes, rate, or days of operation (or type 'quit' to exit): Where will this flight land?\n",
      "The flight destination is Bengaluru.\n",
      "Ask me about the source, destination, flight minutes, rate, or days of operation (or type 'quit' to exit): quit\n"
     ]
    }
   ],
   "source": [
    "# Main interaction loop\n",
    "flight_id = input(\"Please enter the flight ID you're inteqrested in: \")\n",
    "if check_flight_id(flight_id, data):\n",
    "    print(\"Flight ID recognized. You can now ask specific questions about this flight.\")\n",
    "    while True:\n",
    "        user_query = input(\"Ask me about the source, destination, flight minutes, rate, or days of operation (or type 'quit' to exit): \")\n",
    "        if user_query.lower() == 'quit':\n",
    "            break\n",
    "        response = handle_specific_query(flight_id, user_query, data)  # Pass the data argument here\n",
    "        print(response)\n",
    "else:\n",
    "    print(\"Flight ID not found. Please try again with a valid flight ID.\")"
   ]
  },
  {
   "cell_type": "code",
   "execution_count": null,
   "id": "9db06def",
   "metadata": {},
   "outputs": [],
   "source": []
  }
 ],
 "metadata": {
  "kernelspec": {
   "display_name": "Python 3 (ipykernel)",
   "language": "python",
   "name": "python3"
  },
  "language_info": {
   "codemirror_mode": {
    "name": "ipython",
    "version": 3
   },
   "file_extension": ".py",
   "mimetype": "text/x-python",
   "name": "python",
   "nbconvert_exporter": "python",
   "pygments_lexer": "ipython3",
   "version": "3.10.9"
  }
 },
 "nbformat": 4,
 "nbformat_minor": 5
}
